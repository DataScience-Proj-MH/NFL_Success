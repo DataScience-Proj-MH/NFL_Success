{
 "cells": [
  {
   "cell_type": "markdown",
   "source": [
    "# EDA - FB/RB Analysis"
   ],
   "metadata": {
    "collapsed": false
   }
  },
  {
   "cell_type": "markdown",
   "source": [
    "---\n",
    "## Imports"
   ],
   "metadata": {
    "collapsed": false
   }
  },
  {
   "cell_type": "code",
   "execution_count": null,
   "outputs": [],
   "source": [
    "%matplotlib inline \n",
    "import pandas as pd\n",
    "import numpy as np\n",
    "import seaborn as sns\n",
    "import matplotlib.pyplot as plt\n",
    "rs = np.random.RandomState(8)\n",
    "sns.set(color_codes=True)\n",
    "pd.options.mode.chained_assignment = None  # default='warn'"
   ],
   "metadata": {
    "collapsed": false,
    "pycharm": {
     "name": "#%%\n"
    }
   }
  },
  {
   "cell_type": "markdown",
   "source": [
    "## Introduction\n",
    "Data analysis on the FB/RB positions to find relation between data and Pro Bowls"
   ],
   "metadata": {
    "collapsed": false
   }
  },
  {
   "cell_type": "markdown",
   "source": [
    "## Loading Data\n",
    "All data was pulled from the github project "
   ],
   "metadata": {
    "collapsed": false
   }
  },
  {
   "cell_type": "code",
   "execution_count": null,
   "outputs": [],
   "source": [
    "df = pd.read_csv(\"C:/Users/matth/Documents/GitHub/NFL_Success/final_df.csv\")\n",
    "positions = ['TE', 'QB']\n",
    "df = df[~df.Pos.isin(positions)]\n",
    "df.drop('Rnd', axis=1, inplace=True)\n",
    "df.to_csv('my_analysis.csv')\n",
    "full_df = pd.read_csv('my_analysis.csv')\n",
    "wr_df = full_df[full_df['Pos'] == 'WR']\n",
    "fr_df = full_df[full_df['Pos'] != 'WR']"
   ],
   "metadata": {
    "collapsed": false,
    "pycharm": {
     "name": "#%%\n"
    }
   }
  },
  {
   "cell_type": "code",
   "execution_count": null,
   "outputs": [],
   "source": [
    "wr_df[0:5]"
   ],
   "metadata": {
    "collapsed": false,
    "pycharm": {
     "name": "#%%\n"
    }
   }
  },
  {
   "cell_type": "code",
   "execution_count": null,
   "outputs": [],
   "source": [
    "fr_df[0:5]"
   ],
   "metadata": {
    "collapsed": false,
    "pycharm": {
     "name": "#%%\n"
    }
   }
  },
  {
   "cell_type": "markdown",
   "source": [
    "## Analysis\n",
    "---"
   ],
   "metadata": {
    "collapsed": false
   }
  },
  {
   "cell_type": "markdown",
   "source": [
    "### Heat map for college stats"
   ],
   "metadata": {
    "collapsed": false
   }
  },
  {
   "cell_type": "code",
   "execution_count": null,
   "outputs": [],
   "source": [
    "hm = fr_df[['PB','C Games','C Rec', 'C RecYds', 'C  RecAvg', 'C RecTD', 'C ScrimPLays', 'C ScrimYds','C ScrimAvg',\n",
    "            'C ScrimTD']]\n",
    "plt.figure(figsize=(10,7))\n",
    "cmap = sns.diverging_palette(255, 12, as_cmap=True)\n",
    "g = sns.heatmap(hm.corr(), annot=True, cmap=cmap)\n",
    "g.set_title('Heat map for College Stats')"
   ],
   "metadata": {
    "collapsed": false,
    "pycharm": {
     "name": "#%%\n"
    }
   }
  },
  {
   "cell_type": "markdown",
   "source": [
    "### Heat map for combine stats"
   ],
   "metadata": {
    "collapsed": false
   }
  },
  {
   "cell_type": "code",
   "execution_count": null,
   "outputs": [],
   "source": [
    "hm = fr_df[['PB','Round','Wt', '40yd', 'Vertical', 'Broad Jump', '3Cone', 'Shuttle','Pick', 'Year']]\n",
    "plt.figure(figsize=(10,7))\n",
    "cmap = sns.diverging_palette(255, 12, as_cmap=True)\n",
    "g = sns.heatmap(hm.corr(), annot=True, cmap=cmap)\n",
    "g.set_title('Heat map for Combine Stats')"
   ],
   "metadata": {
    "collapsed": false,
    "pycharm": {
     "name": "#%%\n"
    }
   }
  },
  {
   "cell_type": "markdown",
   "source": [
    "### Number of Pro Bowls based on round drafted"
   ],
   "metadata": {
    "collapsed": false
   }
  },
  {
   "cell_type": "code",
   "execution_count": null,
   "outputs": [],
   "source": [
    "g = sns.barplot(x='Round', y='PB', data=fr_df, palette='bright')\n",
    "g.set_title('PB per round')"
   ],
   "metadata": {
    "collapsed": false,
    "pycharm": {
     "name": "#%%\n"
    }
   }
  },
  {
   "cell_type": "markdown",
   "source": [
    "### Number of Pro Bowls based on bench reps at combine and round drafted"
   ],
   "metadata": {
    "collapsed": false
   }
  },
  {
   "cell_type": "code",
   "execution_count": null,
   "outputs": [],
   "source": [
    "fr_df['Bench Reps above average'] = fr_df['Bench'] > fr_df['Bench'].mean()\n",
    "g = sns.barplot(x='Round', y='PB', hue='Bench Reps above average', data=fr_df, palette='bright')\n",
    "g.set_title('PB per round by bench')"
   ],
   "metadata": {
    "collapsed": false,
    "pycharm": {
     "name": "#%%\n"
    }
   }
  },
  {
   "cell_type": "markdown",
   "source": [
    "### Number of Pro Bowls based on 40yd time at combine and round drafted"
   ],
   "metadata": {
    "collapsed": false
   }
  },
  {
   "cell_type": "code",
   "execution_count": null,
   "outputs": [],
   "source": [
    "fr_df['40yd time quicker than average'] = fr_df['40yd'] < fr_df['40yd'].mean()\n",
    "g = sns.barplot(x='Round', y='PB', hue='40yd time quicker than average', data=fr_df, palette='bright')\n",
    "g.set_title('PB per round by average 40yd time')"
   ],
   "metadata": {
    "collapsed": false,
    "pycharm": {
     "name": "#%%\n"
    }
   }
  },
  {
   "cell_type": "markdown",
   "source": [
    "### Number of Pro Bowls based on vertical height at combine and round drafted"
   ],
   "metadata": {
    "collapsed": false
   }
  },
  {
   "cell_type": "code",
   "execution_count": null,
   "outputs": [],
   "source": [
    "fr_df['Vertical height above average'] = fr_df['Vertical'] > fr_df['Vertical'].mean()\n",
    "g = sns.barplot(x='Round', y='PB', hue='Vertical height above average', data=fr_df, palette='bright')\n",
    "g.set_title('PB per round by average vertical')"
   ],
   "metadata": {
    "collapsed": false,
    "pycharm": {
     "name": "#%%\n"
    }
   }
  },
  {
   "cell_type": "markdown",
   "source": [
    "### Number of Pro Bowls based on amount of college scrimmage yards"
   ],
   "metadata": {
    "collapsed": false
   }
  },
  {
   "cell_type": "code",
   "execution_count": null,
   "outputs": [],
   "source": [
    "g = sns.jointplot(x='C ScrimYds', y='PB', data=fr_df, color=\"#4CB391\")"
   ],
   "metadata": {
    "collapsed": false,
    "pycharm": {
     "name": "#%%\n"
    }
   }
  },
  {
   "cell_type": "markdown",
   "source": [
    "### Number of Pro Bowls based on number of college scrimmage plays"
   ],
   "metadata": {
    "collapsed": false
   }
  },
  {
   "cell_type": "code",
   "execution_count": null,
   "outputs": [],
   "source": [
    "g = sns.jointplot(x='C ScrimPLays', y='PB', data=fr_df, color=\"#4CB391\")"
   ],
   "metadata": {
    "collapsed": false,
    "pycharm": {
     "name": "#%%\n"
    }
   }
  },
  {
   "cell_type": "markdown",
   "source": [
    "### Number of Pro Bowls based on number of college rushing touchdowns"
   ],
   "metadata": {
    "collapsed": false
   }
  },
  {
   "cell_type": "code",
   "execution_count": null,
   "outputs": [],
   "source": [
    "g = sns.barplot(x='C RushTD', y='PB', data=fr_df, palette='bright')\n",
    "for label in g.get_xticklabels()[::2]:\n",
    "     label.set_visible(False)\n",
    "for label in g.get_xticklabels()[::2]:\n",
    "     label.set_visible(False)\n",
    "g.set_title('PB by College Scrim TD')"
   ],
   "metadata": {
    "collapsed": false,
    "pycharm": {
     "name": "#%%\n"
    }
   }
  },
  {
   "cell_type": "markdown",
   "source": [
    "### Number of Pro Bowls based on number of college scrimmage touchdowns"
   ],
   "metadata": {
    "collapsed": false
   }
  },
  {
   "cell_type": "code",
   "execution_count": null,
   "outputs": [],
   "source": [
    "g = sns.barplot(x='C ScrimTD', y='PB', data=fr_df, palette='bright')\n",
    "for label in g.get_xticklabels()[::2]:\n",
    "     label.set_visible(False)\n",
    "for label in g.get_xticklabels()[::2]:\n",
    "     label.set_visible(False)\n",
    "g.set_title('PB by College Scrim TD')\n",
    "plt.show()"
   ],
   "metadata": {
    "collapsed": false,
    "pycharm": {
     "name": "#%%\n"
    }
   }
  },
  {
   "cell_type": "markdown",
   "source": [
    "### Number of Pro Bowls based on number of college rushing touchdowns and average college scrimmage touchdowns "
   ],
   "metadata": {
    "collapsed": false
   }
  },
  {
   "cell_type": "code",
   "execution_count": null,
   "outputs": [],
   "source": [
    "fr_df['College Scrimmage Touchdowns above average'] = fr_df['C ScrimTD'] > fr_df['C ScrimTD'].mean()\n",
    "g = sns.lineplot(x='C RushTD', y='PB', hue='College Scrimmage Touchdowns above average', data=fr_df, palette='bright')\n",
    "g.set_title('PB by College Rush TD and average Scrim TD')\n",
    "plt.show()"
   ],
   "metadata": {
    "collapsed": false,
    "pycharm": {
     "name": "#%%\n"
    }
   }
  },
  {
   "cell_type": "markdown",
   "source": [
    "## Model\n",
    "---"
   ],
   "metadata": {
    "collapsed": false
   }
  },
  {
   "cell_type": "markdown",
   "source": [
    "### FB/RB\n",
    "Naive Bayes Model"
   ],
   "metadata": {
    "collapsed": false
   }
  },
  {
   "cell_type": "code",
   "execution_count": null,
   "outputs": [],
   "source": [
    "from sklearn.naive_bayes import GaussianNB\n",
    "from sklearn.model_selection import train_test_split\n",
    "from sklearn.metrics import classification_report, confusion_matrix"
   ],
   "metadata": {
    "collapsed": false,
    "pycharm": {
     "name": "#%%\n"
    }
   }
  },
  {
   "cell_type": "code",
   "execution_count": null,
   "outputs": [],
   "source": [
    "y = fr_df['PB'] > 0\n",
    "features = ['Round', '40yd', 'Wt', 'Vertical', 'C ScrimTD', 'C RecTD']\n",
    "X = fr_df[features].fillna(0)"
   ],
   "metadata": {
    "collapsed": false,
    "pycharm": {
     "name": "#%%\n"
    }
   }
  },
  {
   "cell_type": "code",
   "execution_count": null,
   "outputs": [],
   "source": [
    "X_train, X_test, y_train, y_test = train_test_split(X, y, test_size=0.20)\n",
    "nb = GaussianNB()\n",
    "nb.fit(X_train, y_train)\n",
    "y_pred = nb.predict(X_test)"
   ],
   "metadata": {
    "collapsed": false,
    "pycharm": {
     "name": "#%%\n"
    }
   }
  },
  {
   "cell_type": "code",
   "execution_count": null,
   "outputs": [],
   "source": [
    "print(confusion_matrix(y_test, y_pred))\n",
    "print(\"Confidence:\",nb.score(X_test, y_test))\n",
    "print(\"Number of mislabeled points out of a total %d points : %d\"\n",
    "     % (X_test.shape[0], (y_test != y_pred).sum()))"
   ],
   "metadata": {
    "collapsed": false,
    "pycharm": {
     "name": "#%%\n"
    }
   }
  },
  {
   "cell_type": "code",
   "execution_count": null,
   "outputs": [],
   "source": [],
   "metadata": {
    "collapsed": false,
    "pycharm": {
     "name": "#%%\n"
    }
   }
  }
 ],
 "metadata": {
  "kernelspec": {
   "display_name": "PyCharm (NFL-Scrape)",
   "language": "python",
   "name": "pycharm-661dcb52"
  },
  "language_info": {
   "codemirror_mode": {
    "name": "ipython",
    "version": 3
   },
   "file_extension": ".py",
   "mimetype": "text/x-python",
   "name": "python",
   "nbconvert_exporter": "python",
   "pygments_lexer": "ipython3",
   "version": "3.6.6"
  }
 },
 "nbformat": 4,
 "nbformat_minor": 1
}